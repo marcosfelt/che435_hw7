{
  "nbformat": 4,
  "nbformat_minor": 0,
  "metadata": {
    "colab": {
      "name": "CH437_Quiz5.ipynb",
      "version": "0.3.2",
      "provenance": [],
      "collapsed_sections": []
    },
    "kernelspec": {
      "name": "python3",
      "display_name": "Python 3"
    }
  },
  "cells": [
    {
      "cell_type": "markdown",
      "metadata": {
        "id": "view-in-github",
        "colab_type": "text"
      },
      "source": [
        "[View in Colaboratory](https://colab.research.google.com/github/marcosfelt/che435_hw7/blob/master/CH437_Quiz5.ipynb)"
      ]
    },
    {
      "metadata": {
        "id": "wacPjFa7PCkX",
        "colab_type": "text"
      },
      "cell_type": "markdown",
      "source": [
        "Constants"
      ]
    },
    {
      "metadata": {
        "id": "a-potOt2PDxn",
        "colab_type": "code",
        "colab": {}
      },
      "cell_type": "code",
      "source": [
        "from math import pi, exp\n",
        "import matplotlib.pyplot as plt\n",
        "import numpy as np\n",
        "v_fundamental = 214.36 # cm^-1\n",
        "rot_const = 0.0373 #cm^-1\n",
        "hcDe = 1.5422 #eV\n",
        "k = 1.38064852e-23 #m2 kg s-2 K-1\n",
        "h = 6.626e-34 #Js\n",
        "c = 2.998e10 #cm/s\n",
        "R = 8.3144598 #L kPa K−1 mol−1 or J/mol/K\n",
        "P = 100 #kPa\n",
        "conversion_to_kg = 1.66e-27"
      ],
      "execution_count": 0,
      "outputs": []
    },
    {
      "metadata": {
        "id": "6PCbLafvWtTB",
        "colab_type": "text"
      },
      "cell_type": "markdown",
      "source": [
        "Calculate the partition functions of the reactants and products."
      ]
    },
    {
      "metadata": {
        "id": "ksjsoW3LPi_4",
        "colab_type": "code",
        "colab": {}
      },
      "cell_type": "code",
      "source": [
        "def translational_partition(mass_amu, T, n):\n",
        "  mass = mass_amu*conversion_to_kg\n",
        "  qT = n*R*T/P*(2*pi*mass*k*T)**1.5/h**3\n",
        "  return qT\n",
        "\n",
        "def rotational_partition(T, sigma):\n",
        "  theta_R = h*c*rot_const/k\n",
        "  qR = T/(sigma*theta_R)\n",
        "  return qR\n",
        "  \n",
        "def vibrational_partition(T):\n",
        "  theta_v = h*c*v_fundamental/k\n",
        "  qV = 1/(1-np.exp(-theta_v/T))\n",
        "  return qV\n",
        "\n",
        "deltaE = hcDe*1.60218e-19"
      ],
      "execution_count": 0,
      "outputs": []
    },
    {
      "metadata": {
        "id": "-to2-eNeXT7G",
        "colab_type": "text"
      },
      "cell_type": "markdown",
      "source": [
        "Calculate K using the partition functions."
      ]
    },
    {
      "metadata": {
        "id": "kt92KlXYXlfB",
        "colab_type": "code",
        "colab": {
          "base_uri": "https://localhost:8080/",
          "height": 388
        },
        "outputId": "b3baafa7-e771-446e-f593-7afad6004b2c"
      },
      "cell_type": "code",
      "source": [
        "def equilibrium_constant(T):\n",
        "    #For I2\n",
        "    qI2 = translational_partition(2*126.90447, T, 1)*rotational_partition(T, 2)*vibrational_partition(T)\n",
        "    #I\n",
        "    qI = translational_partition(126.90447, T, 1)*rotational_partition(T, 1)*vibrational_partition(T)*4*np.exp(-h*c*v_fundamental)\n",
        "    #Calculate K\n",
        "    K = qI**2/qI2*np.exp(deltaE/R/T)\n",
        "    return K\n",
        "\n",
        "  \n",
        "#Calculate K over 800 K to 1200K\n",
        "T = np.linspace(800, 1200, 50)\n",
        "inverseT = 1/T\n",
        "K = equilibrium_constant(T)\n",
        "lnK = np.log(K)\n",
        "\n",
        "plt.plot(inverseT,lnK)\n",
        "plt.xlabel('1/T ($K^{-1}$)')\n",
        "plt.ylabel('lnK')\n",
        "\n",
        "#K at 1000K\n",
        "\n",
        "K_1000 = equilibrium_constant(1000)\n",
        "print('K at 1000K = ' + str(K_1000))\n"
      ],
      "execution_count": 27,
      "outputs": [
        {
          "output_type": "stream",
          "text": [
            "K at 1000K = 5.6086337157027044e+41\n"
          ],
          "name": "stdout"
        },
        {
          "output_type": "display_data",
          "data": {
            "image/png": "[encoded data removed]",
            "text/plain": [
              "<matplotlib.figure.Figure at 0x7f039a33d9b0>"
            ]
          },
          "metadata": {
            "tags": []
          }
        }
      ]
    }
  ]
}